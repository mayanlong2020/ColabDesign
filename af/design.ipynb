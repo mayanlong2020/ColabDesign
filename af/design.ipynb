{
  "cells": [
    {
      "cell_type": "markdown",
      "metadata": {
        "id": "view-in-github",
        "colab_type": "text"
      },
      "source": [
        "<a href=\"https://colab.research.google.com/github/mayanlong2020/ColabDesign/blob/main/af/design.ipynb\" target=\"_parent\"><img src=\"https://colab.research.google.com/assets/colab-badge.svg\" alt=\"Open In Colab\"/></a>"
      ]
    },
    {
      "cell_type": "markdown",
      "metadata": {
        "id": "OA2k3sAYuiXe"
      },
      "source": [
        "#AfDesign (v1.1.1)\n",
        "Backprop through AlphaFold for protein design.\n",
        "\n",
        "**WARNING**\n",
        "1.   This notebook is in active development and was designed for demonstration purposes only.\n",
        "2.   Using AfDesign as the only \"loss\" function for design might be a bad idea, you may find adversarial sequences (aka. sequences that trick AlphaFold)."
      ]
    },
    {
      "cell_type": "code",
      "execution_count": 2,
      "metadata": {
        "id": "-AXy0s_4cKaK",
        "colab": {
          "base_uri": "https://localhost:8080/"
        },
        "outputId": "1726985b-125b-42af-f95d-1b603fdea09f"
      },
      "outputs": [
        {
          "output_type": "stream",
          "name": "stdout",
          "text": [
            "CPU times: user 56 µs, sys: 4 µs, total: 60 µs\n",
            "Wall time: 55.8 µs\n"
          ]
        }
      ],
      "source": [
        "#@title setup\n",
        "%%time\n",
        "import os\n",
        "if not os.path.isdir(\"params\"):\n",
        "  # get code\n",
        "  os.system(\"pip -q install git+https://github.com/sokrypton/ColabDesign.git@v1.1.1\")\n",
        "  # for debugging\n",
        "  os.system(\"ln -s /usr/local/lib/python3.*/dist-packages/colabdesign colabdesign\")\n",
        "  # download params\n",
        "  os.system(\"mkdir params\")\n",
        "  os.system(\"apt-get install aria2 -qq\")\n",
        "  os.system(\"aria2c -q -x 16 https://storage.googleapis.com/alphafold/alphafold_params_2022-12-06.tar\")\n",
        "  os.system(\"tar -xf alphafold_params_2022-12-06.tar -C params\")\n",
        "\n",
        "import warnings\n",
        "warnings.simplefilter(action='ignore', category=FutureWarning)\n",
        "\n",
        "import os\n",
        "from colabdesign import mk_afdesign_model, clear_mem\n",
        "from IPython.display import HTML\n",
        "from google.colab import files\n",
        "import numpy as np\n",
        "\n",
        "def get_pdb(pdb_code=\"\"):\n",
        "  if pdb_code is None or pdb_code == \"\":\n",
        "    upload_dict = files.upload()\n",
        "    pdb_string = upload_dict[list(upload_dict.keys())[0]]\n",
        "    with open(\"tmp.pdb\",\"wb\") as out: out.write(pdb_string)\n",
        "    return \"tmp.pdb\"\n",
        "  elif os.path.isfile(pdb_code):\n",
        "    return pdb_code\n",
        "  elif len(pdb_code) == 4:\n",
        "    os.system(f\"wget -qnc https://files.rcsb.org/view/{pdb_code}.pdb\")\n",
        "    return f\"{pdb_code}.pdb\"\n",
        "  else:\n",
        "    os.system(f\"wget -qnc https://alphafold.ebi.ac.uk/files/AF-{pdb_code}-F1-model_v3.pdb\")\n",
        "    return f\"AF-{pdb_code}-F1-model_v3.pdb\""
      ]
    },
    {
      "cell_type": "markdown",
      "metadata": {
        "id": "UUfKrOzT0gOS"
      },
      "source": [
        "# fixed backbone design (fixbb)\n",
        "For a given protein backbone, generate/design a new sequence that AlphaFold thinks folds into that conformation."
      ]
    },
    {
      "cell_type": "code",
      "execution_count": 4,
      "metadata": {
        "id": "qLd1DsnKzxBJ",
        "colab": {
          "base_uri": "https://localhost:8080/"
        },
        "outputId": "247059c7-4b4e-4b85-db81-3930b14eede6"
      },
      "outputs": [
        {
          "output_type": "stream",
          "name": "stdout",
          "text": [
            "length 89\n",
            "weights {'con': 0.0, 'dgram_cce': 1.0, 'exp_res': 0.0, 'fape': 0.0, 'helix': 0.0, 'pae': 0.0, 'plddt': 0.0, 'rmsd': 0.0, 'seq_ent': 0.0}\n"
          ]
        }
      ],
      "source": [
        "clear_mem()\n",
        "af_model = mk_afdesign_model(protocol=\"fixbb\")\n",
        "af_model.prep_inputs(pdb_filename=get_pdb(\"1TEN\"), chain=\"A\")\n",
        "\n",
        "print(\"length\",  af_model._len)\n",
        "print(\"weights\", af_model.opt[\"weights\"])"
      ]
    },
    {
      "cell_type": "code",
      "source": [
        "af_model.restart()\n",
        "af_model.design_3stage()"
      ],
      "metadata": {
        "id": "u0AwskJ84NGx",
        "colab": {
          "base_uri": "https://localhost:8080/"
        },
        "outputId": "bb38db73-d271-44f8-aaa3-23f902381d63"
      },
      "execution_count": null,
      "outputs": [
        {
          "output_type": "stream",
          "name": "stdout",
          "text": [
            "Stage 1: running (logits → soft)\n",
            "1 models [4] recycles 0 hard 0 soft 0.00 temp 1 seqid 0.02 loss 5.90 dgram_cce 5.90 plddt 0.63 ptm 0.14 rmsd 57.74\n",
            "2 models [4] recycles 0 hard 0 soft 0.01 temp 1 seqid 0.04 loss 5.48 dgram_cce 5.48 plddt 0.64 ptm 0.14 rmsd 30.87\n",
            "3 models [4] recycles 0 hard 0 soft 0.01 temp 1 seqid 0.03 loss 5.27 dgram_cce 5.27 plddt 0.73 ptm 0.26 rmsd 32.41\n",
            "4 models [2] recycles 0 hard 0 soft 0.01 temp 1 seqid 0.03 loss 4.39 dgram_cce 4.39 plddt 0.53 ptm 0.13 rmsd 30.33\n",
            "5 models [1] recycles 0 hard 0 soft 0.02 temp 1 seqid 0.07 loss 3.93 dgram_cce 3.93 plddt 0.48 ptm 0.14 rmsd 27.55\n",
            "6 models [3] recycles 0 hard 0 soft 0.02 temp 1 seqid 0.06 loss 3.56 dgram_cce 3.56 plddt 0.35 ptm 0.15 rmsd 17.52\n",
            "7 models [1] recycles 0 hard 0 soft 0.02 temp 1 seqid 0.06 loss 3.46 dgram_cce 3.46 plddt 0.37 ptm 0.16 rmsd 19.94\n",
            "8 models [4] recycles 0 hard 0 soft 0.03 temp 1 seqid 0.06 loss 3.91 dgram_cce 3.91 plddt 0.52 ptm 0.12 rmsd 25.57\n",
            "9 models [3] recycles 0 hard 0 soft 0.03 temp 1 seqid 0.04 loss 3.55 dgram_cce 3.55 plddt 0.32 ptm 0.21 rmsd 16.51\n",
            "10 models [2] recycles 0 hard 0 soft 0.03 temp 1 seqid 0.04 loss 3.45 dgram_cce 3.45 plddt 0.32 ptm 0.17 rmsd 17.67\n",
            "11 models [2] recycles 0 hard 0 soft 0.04 temp 1 seqid 0.08 loss 3.30 dgram_cce 3.30 plddt 0.31 ptm 0.13 rmsd 18.57\n",
            "12 models [4] recycles 0 hard 0 soft 0.04 temp 1 seqid 0.10 loss 3.67 dgram_cce 3.67 plddt 0.46 ptm 0.12 rmsd 28.35\n",
            "13 models [4] recycles 0 hard 0 soft 0.04 temp 1 seqid 0.10 loss 3.37 dgram_cce 3.37 plddt 0.36 ptm 0.16 rmsd 20.99\n",
            "14 models [2] recycles 0 hard 0 soft 0.05 temp 1 seqid 0.08 loss 3.37 dgram_cce 3.37 plddt 0.30 ptm 0.17 rmsd 17.21\n",
            "15 models [0] recycles 0 hard 0 soft 0.05 temp 1 seqid 0.09 loss 3.86 dgram_cce 3.86 plddt 0.45 ptm 0.13 rmsd 25.07\n",
            "16 models [4] recycles 0 hard 0 soft 0.05 temp 1 seqid 0.13 loss 3.32 dgram_cce 3.32 plddt 0.35 ptm 0.11 rmsd 21.61\n",
            "17 models [1] recycles 0 hard 0 soft 0.06 temp 1 seqid 0.13 loss 3.30 dgram_cce 3.30 plddt 0.33 ptm 0.18 rmsd 23.57\n",
            "18 models [0] recycles 0 hard 0 soft 0.06 temp 1 seqid 0.15 loss 3.27 dgram_cce 3.27 plddt 0.40 ptm 0.16 rmsd 19.48\n",
            "19 models [2] recycles 0 hard 0 soft 0.06 temp 1 seqid 0.16 loss 3.15 dgram_cce 3.15 plddt 0.32 ptm 0.14 rmsd 12.31\n",
            "20 models [4] recycles 0 hard 0 soft 0.07 temp 1 seqid 0.15 loss 3.07 dgram_cce 3.07 plddt 0.39 ptm 0.17 rmsd 16.07\n",
            "21 models [1] recycles 0 hard 0 soft 0.07 temp 1 seqid 0.16 loss 3.02 dgram_cce 3.02 plddt 0.35 ptm 0.17 rmsd 13.61\n",
            "22 models [4] recycles 0 hard 0 soft 0.07 temp 1 seqid 0.15 loss 2.95 dgram_cce 2.95 plddt 0.38 ptm 0.17 rmsd 13.56\n",
            "23 models [3] recycles 0 hard 0 soft 0.08 temp 1 seqid 0.11 loss 2.91 dgram_cce 2.91 plddt 0.44 ptm 0.24 rmsd 12.34\n",
            "24 models [0] recycles 0 hard 0 soft 0.08 temp 1 seqid 0.15 loss 2.85 dgram_cce 2.85 plddt 0.42 ptm 0.22 rmsd 8.20\n",
            "25 models [0] recycles 0 hard 0 soft 0.08 temp 1 seqid 0.16 loss 2.93 dgram_cce 2.93 plddt 0.46 ptm 0.28 rmsd 11.07\n",
            "26 models [4] recycles 0 hard 0 soft 0.09 temp 1 seqid 0.16 loss 2.88 dgram_cce 2.88 plddt 0.39 ptm 0.19 rmsd 10.53\n",
            "27 models [4] recycles 0 hard 0 soft 0.09 temp 1 seqid 0.16 loss 2.82 dgram_cce 2.82 plddt 0.39 ptm 0.18 rmsd 9.61\n",
            "28 models [1] recycles 0 hard 0 soft 0.09 temp 1 seqid 0.17 loss 2.88 dgram_cce 2.88 plddt 0.39 ptm 0.20 rmsd 8.36\n",
            "29 models [4] recycles 0 hard 0 soft 0.10 temp 1 seqid 0.16 loss 2.79 dgram_cce 2.79 plddt 0.42 ptm 0.20 rmsd 5.76\n",
            "30 models [4] recycles 0 hard 0 soft 0.10 temp 1 seqid 0.16 loss 2.67 dgram_cce 2.67 plddt 0.51 ptm 0.33 rmsd 5.13\n",
            "31 models [0] recycles 0 hard 0 soft 0.10 temp 1 seqid 0.16 loss 2.68 dgram_cce 2.68 plddt 0.52 ptm 0.33 rmsd 4.48\n",
            "32 models [2] recycles 0 hard 0 soft 0.11 temp 1 seqid 0.16 loss 2.73 dgram_cce 2.73 plddt 0.46 ptm 0.30 rmsd 4.54\n",
            "33 models [1] recycles 0 hard 0 soft 0.11 temp 1 seqid 0.17 loss 2.69 dgram_cce 2.69 plddt 0.47 ptm 0.32 rmsd 4.78\n",
            "34 models [4] recycles 0 hard 0 soft 0.11 temp 1 seqid 0.17 loss 2.55 dgram_cce 2.55 plddt 0.58 ptm 0.41 rmsd 3.70\n",
            "35 models [1] recycles 0 hard 0 soft 0.12 temp 1 seqid 0.17 loss 2.60 dgram_cce 2.60 plddt 0.54 ptm 0.40 rmsd 4.31\n",
            "36 models [1] recycles 0 hard 0 soft 0.12 temp 1 seqid 0.17 loss 2.55 dgram_cce 2.55 plddt 0.63 ptm 0.46 rmsd 3.43\n",
            "37 models [0] recycles 0 hard 0 soft 0.12 temp 1 seqid 0.16 loss 2.61 dgram_cce 2.61 plddt 0.59 ptm 0.42 rmsd 4.46\n",
            "38 models [4] recycles 0 hard 0 soft 0.13 temp 1 seqid 0.17 loss 2.49 dgram_cce 2.49 plddt 0.64 ptm 0.50 rmsd 3.56\n",
            "39 models [4] recycles 0 hard 0 soft 0.13 temp 1 seqid 0.20 loss 2.58 dgram_cce 2.58 plddt 0.59 ptm 0.47 rmsd 5.13\n",
            "40 models [2] recycles 0 hard 0 soft 0.13 temp 1 seqid 0.19 loss 2.52 dgram_cce 2.52 plddt 0.59 ptm 0.47 rmsd 3.95\n",
            "41 models [1] recycles 0 hard 0 soft 0.14 temp 1 seqid 0.17 loss 2.53 dgram_cce 2.53 plddt 0.63 ptm 0.47 rmsd 3.90\n",
            "42 models [4] recycles 0 hard 0 soft 0.14 temp 1 seqid 0.18 loss 2.38 dgram_cce 2.38 plddt 0.62 ptm 0.47 rmsd 2.76\n",
            "43 models [4] recycles 0 hard 0 soft 0.14 temp 1 seqid 0.18 loss 2.32 dgram_cce 2.32 plddt 0.67 ptm 0.52 rmsd 2.72\n",
            "44 models [2] recycles 0 hard 0 soft 0.15 temp 1 seqid 0.18 loss 2.33 dgram_cce 2.33 plddt 0.62 ptm 0.45 rmsd 2.80\n",
            "45 models [0] recycles 0 hard 0 soft 0.15 temp 1 seqid 0.19 loss 2.36 dgram_cce 2.36 plddt 0.63 ptm 0.48 rmsd 3.20\n",
            "46 models [0] recycles 0 hard 0 soft 0.15 temp 1 seqid 0.18 loss 2.37 dgram_cce 2.37 plddt 0.65 ptm 0.48 rmsd 3.08\n",
            "47 models [2] recycles 0 hard 0 soft 0.16 temp 1 seqid 0.19 loss 2.35 dgram_cce 2.35 plddt 0.69 ptm 0.54 rmsd 2.70\n",
            "48 models [0] recycles 0 hard 0 soft 0.16 temp 1 seqid 0.22 loss 2.27 dgram_cce 2.27 plddt 0.73 ptm 0.57 rmsd 2.89\n",
            "49 models [3] recycles 0 hard 0 soft 0.16 temp 1 seqid 0.21 loss 2.37 dgram_cce 2.37 plddt 0.63 ptm 0.48 rmsd 3.21\n",
            "50 models [3] recycles 0 hard 0 soft 0.17 temp 1 seqid 0.21 loss 2.36 dgram_cce 2.36 plddt 0.61 ptm 0.49 rmsd 2.67\n",
            "51 models [0] recycles 0 hard 0 soft 0.17 temp 1 seqid 0.21 loss 2.25 dgram_cce 2.25 plddt 0.67 ptm 0.53 rmsd 2.31\n",
            "52 models [1] recycles 0 hard 0 soft 0.17 temp 1 seqid 0.21 loss 2.33 dgram_cce 2.33 plddt 0.69 ptm 0.58 rmsd 2.84\n",
            "53 models [1] recycles 0 hard 0 soft 0.18 temp 1 seqid 0.24 loss 2.25 dgram_cce 2.25 plddt 0.71 ptm 0.59 rmsd 2.40\n",
            "54 models [0] recycles 0 hard 0 soft 0.18 temp 1 seqid 0.25 loss 2.28 dgram_cce 2.28 plddt 0.72 ptm 0.58 rmsd 2.36\n",
            "55 models [4] recycles 0 hard 0 soft 0.18 temp 1 seqid 0.25 loss 2.20 dgram_cce 2.20 plddt 0.79 ptm 0.64 rmsd 2.07\n",
            "56 models [1] recycles 0 hard 0 soft 0.19 temp 1 seqid 0.21 loss 2.23 dgram_cce 2.23 plddt 0.72 ptm 0.59 rmsd 2.33\n",
            "57 models [3] recycles 0 hard 0 soft 0.19 temp 1 seqid 0.21 loss 2.24 dgram_cce 2.24 plddt 0.70 ptm 0.56 rmsd 2.37\n",
            "58 models [4] recycles 0 hard 0 soft 0.19 temp 1 seqid 0.22 loss 2.14 dgram_cce 2.14 plddt 0.75 ptm 0.60 rmsd 2.00\n",
            "59 models [2] recycles 0 hard 0 soft 0.20 temp 1 seqid 0.22 loss 2.29 dgram_cce 2.29 plddt 0.62 ptm 0.47 rmsd 2.25\n",
            "60 models [3] recycles 0 hard 0 soft 0.20 temp 1 seqid 0.22 loss 2.18 dgram_cce 2.18 plddt 0.72 ptm 0.58 rmsd 2.46\n",
            "61 models [4] recycles 0 hard 0 soft 0.20 temp 1 seqid 0.18 loss 2.21 dgram_cce 2.21 plddt 0.72 ptm 0.58 rmsd 2.62\n",
            "62 models [3] recycles 0 hard 0 soft 0.21 temp 1 seqid 0.18 loss 2.15 dgram_cce 2.15 plddt 0.72 ptm 0.56 rmsd 2.12\n",
            "63 models [3] recycles 0 hard 0 soft 0.21 temp 1 seqid 0.20 loss 2.20 dgram_cce 2.20 plddt 0.70 ptm 0.59 rmsd 2.56\n",
            "64 models [0] recycles 0 hard 0 soft 0.21 temp 1 seqid 0.20 loss 2.43 dgram_cce 2.43 plddt 0.60 ptm 0.45 rmsd 2.91\n",
            "65 models [4] recycles 0 hard 0 soft 0.22 temp 1 seqid 0.19 loss 2.15 dgram_cce 2.15 plddt 0.74 ptm 0.60 rmsd 2.19\n",
            "66 models [3] recycles 0 hard 0 soft 0.22 temp 1 seqid 0.21 loss 2.39 dgram_cce 2.39 plddt 0.65 ptm 0.48 rmsd 2.81\n",
            "67 models [0] recycles 0 hard 0 soft 0.22 temp 1 seqid 0.21 loss 2.19 dgram_cce 2.19 plddt 0.70 ptm 0.55 rmsd 2.46\n",
            "68 models [3] recycles 0 hard 0 soft 0.23 temp 1 seqid 0.24 loss 2.05 dgram_cce 2.05 plddt 0.78 ptm 0.64 rmsd 1.94\n",
            "69 models [3] recycles 0 hard 0 soft 0.23 temp 1 seqid 0.25 loss 2.02 dgram_cce 2.02 plddt 0.77 ptm 0.64 rmsd 1.95\n",
            "70 models [0] recycles 0 hard 0 soft 0.23 temp 1 seqid 0.21 loss 2.13 dgram_cce 2.13 plddt 0.71 ptm 0.56 rmsd 2.28\n",
            "71 models [1] recycles 0 hard 0 soft 0.24 temp 1 seqid 0.22 loss 2.13 dgram_cce 2.13 plddt 0.77 ptm 0.65 rmsd 2.16\n",
            "72 models [4] recycles 0 hard 0 soft 0.24 temp 1 seqid 0.20 loss 2.14 dgram_cce 2.14 plddt 0.77 ptm 0.63 rmsd 2.38\n",
            "73 models [1] recycles 0 hard 0 soft 0.24 temp 1 seqid 0.21 loss 2.11 dgram_cce 2.11 plddt 0.74 ptm 0.61 rmsd 2.32\n",
            "74 models [2] recycles 0 hard 0 soft 0.25 temp 1 seqid 0.21 loss 2.05 dgram_cce 2.05 plddt 0.72 ptm 0.60 rmsd 1.97\n",
            "75 models [1] recycles 0 hard 0 soft 0.25 temp 1 seqid 0.22 loss 2.04 dgram_cce 2.04 plddt 0.75 ptm 0.60 rmsd 1.94\n",
            "76 models [1] recycles 0 hard 0 soft 0.25 temp 1 seqid 0.20 loss 2.07 dgram_cce 2.07 plddt 0.77 ptm 0.64 rmsd 1.93\n",
            "77 models [4] recycles 0 hard 0 soft 0.26 temp 1 seqid 0.19 loss 2.02 dgram_cce 2.02 plddt 0.79 ptm 0.66 rmsd 2.24\n",
            "78 models [3] recycles 0 hard 0 soft 0.26 temp 1 seqid 0.18 loss 2.02 dgram_cce 2.02 plddt 0.81 ptm 0.67 rmsd 1.91\n",
            "79 models [1] recycles 0 hard 0 soft 0.26 temp 1 seqid 0.22 loss 2.08 dgram_cce 2.08 plddt 0.76 ptm 0.64 rmsd 2.06\n",
            "80 models [1] recycles 0 hard 0 soft 0.27 temp 1 seqid 0.24 loss 1.95 dgram_cce 1.95 plddt 0.81 ptm 0.68 rmsd 2.08\n",
            "81 models [2] recycles 0 hard 0 soft 0.27 temp 1 seqid 0.25 loss 1.99 dgram_cce 1.99 plddt 0.79 ptm 0.66 rmsd 2.19\n",
            "82 models [4] recycles 0 hard 0 soft 0.27 temp 1 seqid 0.24 loss 1.94 dgram_cce 1.94 plddt 0.77 ptm 0.63 rmsd 2.05\n",
            "83 models [1] recycles 0 hard 0 soft 0.28 temp 1 seqid 0.22 loss 1.95 dgram_cce 1.95 plddt 0.79 ptm 0.67 rmsd 1.80\n",
            "84 models [0] recycles 0 hard 0 soft 0.28 temp 1 seqid 0.25 loss 1.98 dgram_cce 1.98 plddt 0.75 ptm 0.60 rmsd 1.79\n",
            "85 models [2] recycles 0 hard 0 soft 0.28 temp 1 seqid 0.24 loss 1.97 dgram_cce 1.97 plddt 0.77 ptm 0.64 rmsd 1.92\n",
            "86 models [0] recycles 0 hard 0 soft 0.29 temp 1 seqid 0.25 loss 2.03 dgram_cce 2.03 plddt 0.75 ptm 0.61 rmsd 1.92\n",
            "87 models [0] recycles 0 hard 0 soft 0.29 temp 1 seqid 0.22 loss 1.93 dgram_cce 1.93 plddt 0.78 ptm 0.64 rmsd 1.95\n",
            "88 models [1] recycles 0 hard 0 soft 0.29 temp 1 seqid 0.21 loss 1.89 dgram_cce 1.89 plddt 0.84 ptm 0.70 rmsd 1.84\n",
            "89 models [1] recycles 0 hard 0 soft 0.30 temp 1 seqid 0.21 loss 1.97 dgram_cce 1.97 plddt 0.76 ptm 0.61 rmsd 1.66\n",
            "90 models [2] recycles 0 hard 0 soft 0.30 temp 1 seqid 0.21 loss 2.10 dgram_cce 2.10 plddt 0.72 ptm 0.59 rmsd 2.62\n",
            "91 models [4] recycles 0 hard 0 soft 0.30 temp 1 seqid 0.22 loss 1.88 dgram_cce 1.88 plddt 0.80 ptm 0.67 rmsd 1.74\n",
            "92 models [0] recycles 0 hard 0 soft 0.31 temp 1 seqid 0.21 loss 1.91 dgram_cce 1.91 plddt 0.78 ptm 0.63 rmsd 1.53\n",
            "93 models [2] recycles 0 hard 0 soft 0.31 temp 1 seqid 0.22 loss 1.91 dgram_cce 1.91 plddt 0.79 ptm 0.66 rmsd 1.87\n",
            "94 models [4] recycles 0 hard 0 soft 0.31 temp 1 seqid 0.25 loss 1.81 dgram_cce 1.81 plddt 0.83 ptm 0.68 rmsd 1.66\n",
            "95 models [1] recycles 0 hard 0 soft 0.32 temp 1 seqid 0.24 loss 1.87 dgram_cce 1.87 plddt 0.82 ptm 0.69 rmsd 1.63\n",
            "96 models [2] recycles 0 hard 0 soft 0.32 temp 1 seqid 0.24 loss 1.93 dgram_cce 1.93 plddt 0.85 ptm 0.71 rmsd 1.90\n",
            "97 models [3] recycles 0 hard 0 soft 0.32 temp 1 seqid 0.25 loss 1.88 dgram_cce 1.88 plddt 0.84 ptm 0.69 rmsd 2.15\n",
            "98 models [4] recycles 0 hard 0 soft 0.33 temp 1 seqid 0.25 loss 1.96 dgram_cce 1.96 plddt 0.85 ptm 0.73 rmsd 2.00\n",
            "99 models [2] recycles 0 hard 0 soft 0.33 temp 1 seqid 0.25 loss 1.86 dgram_cce 1.86 plddt 0.78 ptm 0.65 rmsd 1.60\n",
            "100 models [3] recycles 0 hard 0 soft 0.33 temp 1 seqid 0.26 loss 1.81 dgram_cce 1.81 plddt 0.85 ptm 0.70 rmsd 1.97\n",
            "101 models [2] recycles 0 hard 0 soft 0.34 temp 1 seqid 0.26 loss 1.81 dgram_cce 1.81 plddt 0.83 ptm 0.70 rmsd 1.72\n",
            "102 models [2] recycles 0 hard 0 soft 0.34 temp 1 seqid 0.27 loss 1.77 dgram_cce 1.77 plddt 0.84 ptm 0.71 rmsd 1.55\n",
            "103 models [3] recycles 0 hard 0 soft 0.34 temp 1 seqid 0.26 loss 1.86 dgram_cce 1.86 plddt 0.76 ptm 0.64 rmsd 1.98\n",
            "104 models [0] recycles 0 hard 0 soft 0.35 temp 1 seqid 0.25 loss 1.72 dgram_cce 1.72 plddt 0.84 ptm 0.69 rmsd 1.41\n",
            "105 models [4] recycles 0 hard 0 soft 0.35 temp 1 seqid 0.27 loss 1.68 dgram_cce 1.68 plddt 0.86 ptm 0.72 rmsd 1.38\n",
            "106 models [0] recycles 0 hard 0 soft 0.35 temp 1 seqid 0.26 loss 1.70 dgram_cce 1.70 plddt 0.84 ptm 0.69 rmsd 1.29\n",
            "107 models [1] recycles 0 hard 0 soft 0.36 temp 1 seqid 0.25 loss 1.80 dgram_cce 1.80 plddt 0.88 ptm 0.75 rmsd 1.51\n",
            "108 models [2] recycles 0 hard 0 soft 0.36 temp 1 seqid 0.24 loss 1.77 dgram_cce 1.77 plddt 0.82 ptm 0.68 rmsd 1.67\n",
            "109 models [3] recycles 0 hard 0 soft 0.36 temp 1 seqid 0.25 loss 1.75 dgram_cce 1.75 plddt 0.83 ptm 0.69 rmsd 1.48\n",
            "110 models [0] recycles 0 hard 0 soft 0.37 temp 1 seqid 0.22 loss 1.70 dgram_cce 1.70 plddt 0.85 ptm 0.71 rmsd 1.48\n",
            "111 models [2] recycles 0 hard 0 soft 0.37 temp 1 seqid 0.22 loss 1.70 dgram_cce 1.70 plddt 0.87 ptm 0.73 rmsd 1.51\n",
            "112 models [3] recycles 0 hard 0 soft 0.37 temp 1 seqid 0.22 loss 1.69 dgram_cce 1.69 plddt 0.84 ptm 0.70 rmsd 1.47\n",
            "113 models [1] recycles 0 hard 0 soft 0.38 temp 1 seqid 0.24 loss 1.71 dgram_cce 1.71 plddt 0.86 ptm 0.71 rmsd 1.38\n",
            "114 models [2] recycles 0 hard 0 soft 0.38 temp 1 seqid 0.22 loss 1.63 dgram_cce 1.63 plddt 0.85 ptm 0.72 rmsd 1.52\n",
            "115 models [2] recycles 0 hard 0 soft 0.38 temp 1 seqid 0.25 loss 1.71 dgram_cce 1.71 plddt 0.86 ptm 0.72 rmsd 1.45\n",
            "116 models [0] recycles 0 hard 0 soft 0.39 temp 1 seqid 0.22 loss 1.76 dgram_cce 1.76 plddt 0.85 ptm 0.70 rmsd 1.23\n",
            "117 models [1] recycles 0 hard 0 soft 0.39 temp 1 seqid 0.24 loss 1.70 dgram_cce 1.70 plddt 0.85 ptm 0.70 rmsd 1.34\n",
            "118 models [0] recycles 0 hard 0 soft 0.39 temp 1 seqid 0.22 loss 1.66 dgram_cce 1.66 plddt 0.84 ptm 0.67 rmsd 1.26\n",
            "119 models [1] recycles 0 hard 0 soft 0.40 temp 1 seqid 0.22 loss 1.66 dgram_cce 1.66 plddt 0.88 ptm 0.73 rmsd 1.36\n",
            "120 models [0] recycles 0 hard 0 soft 0.40 temp 1 seqid 0.22 loss 1.69 dgram_cce 1.69 plddt 0.82 ptm 0.68 rmsd 1.26\n",
            "121 models [4] recycles 0 hard 0 soft 0.40 temp 1 seqid 0.22 loss 1.61 dgram_cce 1.61 plddt 0.84 ptm 0.71 rmsd 1.20\n",
            "122 models [1] recycles 0 hard 0 soft 0.41 temp 1 seqid 0.24 loss 1.64 dgram_cce 1.64 plddt 0.85 ptm 0.71 rmsd 1.10\n",
            "123 models [2] recycles 0 hard 0 soft 0.41 temp 1 seqid 0.24 loss 1.68 dgram_cce 1.68 plddt 0.83 ptm 0.67 rmsd 1.57\n",
            "124 models [1] recycles 0 hard 0 soft 0.41 temp 1 seqid 0.25 loss 1.65 dgram_cce 1.65 plddt 0.86 ptm 0.73 rmsd 1.40\n",
            "125 models [4] recycles 0 hard 0 soft 0.42 temp 1 seqid 0.25 loss 1.60 dgram_cce 1.60 plddt 0.85 ptm 0.71 rmsd 1.29\n",
            "126 models [2] recycles 0 hard 0 soft 0.42 temp 1 seqid 0.24 loss 1.64 dgram_cce 1.64 plddt 0.85 ptm 0.71 rmsd 1.72\n",
            "127 models [2] recycles 0 hard 0 soft 0.42 temp 1 seqid 0.24 loss 1.57 dgram_cce 1.57 plddt 0.85 ptm 0.71 rmsd 1.29\n",
            "128 models [1] recycles 0 hard 0 soft 0.43 temp 1 seqid 0.24 loss 1.62 dgram_cce 1.62 plddt 0.87 ptm 0.72 rmsd 1.34\n",
            "129 models [1] recycles 0 hard 0 soft 0.43 temp 1 seqid 0.25 loss 1.54 dgram_cce 1.54 plddt 0.87 ptm 0.72 rmsd 1.26\n",
            "130 models [0] recycles 0 hard 0 soft 0.43 temp 1 seqid 0.26 loss 1.62 dgram_cce 1.62 plddt 0.86 ptm 0.71 rmsd 1.27\n",
            "131 models [3] recycles 0 hard 0 soft 0.44 temp 1 seqid 0.26 loss 1.57 dgram_cce 1.57 plddt 0.85 ptm 0.71 rmsd 1.37\n",
            "132 models [3] recycles 0 hard 0 soft 0.44 temp 1 seqid 0.26 loss 1.56 dgram_cce 1.56 plddt 0.85 ptm 0.70 rmsd 1.25\n",
            "133 models [1] recycles 0 hard 0 soft 0.44 temp 1 seqid 0.26 loss 1.55 dgram_cce 1.55 plddt 0.86 ptm 0.74 rmsd 1.07\n",
            "134 models [2] recycles 0 hard 0 soft 0.45 temp 1 seqid 0.25 loss 1.55 dgram_cce 1.55 plddt 0.87 ptm 0.73 rmsd 1.30\n",
            "135 models [2] recycles 0 hard 0 soft 0.45 temp 1 seqid 0.26 loss 1.54 dgram_cce 1.54 plddt 0.86 ptm 0.72 rmsd 1.42\n",
            "136 models [2] recycles 0 hard 0 soft 0.45 temp 1 seqid 0.26 loss 1.58 dgram_cce 1.58 plddt 0.86 ptm 0.73 rmsd 1.25\n",
            "137 models [3] recycles 0 hard 0 soft 0.46 temp 1 seqid 0.24 loss 1.51 dgram_cce 1.51 plddt 0.87 ptm 0.73 rmsd 1.12\n",
            "138 models [3] recycles 0 hard 0 soft 0.46 temp 1 seqid 0.22 loss 1.56 dgram_cce 1.56 plddt 0.87 ptm 0.72 rmsd 1.47\n",
            "139 models [1] recycles 0 hard 0 soft 0.46 temp 1 seqid 0.22 loss 1.52 dgram_cce 1.52 plddt 0.88 ptm 0.74 rmsd 1.20\n",
            "140 models [3] recycles 0 hard 0 soft 0.47 temp 1 seqid 0.22 loss 1.51 dgram_cce 1.51 plddt 0.88 ptm 0.75 rmsd 1.16\n",
            "141 models [3] recycles 0 hard 0 soft 0.47 temp 1 seqid 0.22 loss 1.52 dgram_cce 1.52 plddt 0.89 ptm 0.75 rmsd 1.34\n",
            "142 models [0] recycles 0 hard 0 soft 0.47 temp 1 seqid 0.25 loss 1.53 dgram_cce 1.53 plddt 0.87 ptm 0.72 rmsd 1.22\n",
            "143 models [2] recycles 0 hard 0 soft 0.48 temp 1 seqid 0.25 loss 1.54 dgram_cce 1.54 plddt 0.88 ptm 0.74 rmsd 1.27\n",
            "144 models [0] recycles 0 hard 0 soft 0.48 temp 1 seqid 0.25 loss 1.57 dgram_cce 1.57 plddt 0.88 ptm 0.73 rmsd 1.00\n",
            "145 models [1] recycles 0 hard 0 soft 0.48 temp 1 seqid 0.26 loss 1.42 dgram_cce 1.42 plddt 0.89 ptm 0.75 rmsd 0.79\n",
            "146 models [2] recycles 0 hard 0 soft 0.49 temp 1 seqid 0.25 loss 1.47 dgram_cce 1.47 plddt 0.87 ptm 0.74 rmsd 0.90\n",
            "147 models [3] recycles 0 hard 0 soft 0.49 temp 1 seqid 0.26 loss 1.53 dgram_cce 1.53 plddt 0.87 ptm 0.72 rmsd 0.98\n",
            "148 models [0] recycles 0 hard 0 soft 0.49 temp 1 seqid 0.26 loss 1.51 dgram_cce 1.51 plddt 0.87 ptm 0.73 rmsd 1.42\n",
            "149 models [4] recycles 0 hard 0 soft 0.50 temp 1 seqid 0.25 loss 1.51 dgram_cce 1.51 plddt 0.88 ptm 0.75 rmsd 1.26\n",
            "150 models [2] recycles 0 hard 0 soft 0.50 temp 1 seqid 0.26 loss 1.44 dgram_cce 1.44 plddt 0.88 ptm 0.74 rmsd 0.96\n",
            "151 models [4] recycles 0 hard 0 soft 0.50 temp 1 seqid 0.27 loss 1.50 dgram_cce 1.50 plddt 0.88 ptm 0.75 rmsd 1.09\n",
            "152 models [3] recycles 0 hard 0 soft 0.51 temp 1 seqid 0.26 loss 1.45 dgram_cce 1.45 plddt 0.89 ptm 0.75 rmsd 1.02\n",
            "153 models [0] recycles 0 hard 0 soft 0.51 temp 1 seqid 0.22 loss 1.44 dgram_cce 1.44 plddt 0.89 ptm 0.75 rmsd 0.79\n",
            "154 models [0] recycles 0 hard 0 soft 0.51 temp 1 seqid 0.24 loss 1.57 dgram_cce 1.57 plddt 0.90 ptm 0.75 rmsd 1.10\n",
            "155 models [1] recycles 0 hard 0 soft 0.52 temp 1 seqid 0.25 loss 1.39 dgram_cce 1.39 plddt 0.90 ptm 0.76 rmsd 0.85\n",
            "156 models [2] recycles 0 hard 0 soft 0.52 temp 1 seqid 0.21 loss 1.41 dgram_cce 1.41 plddt 0.90 ptm 0.76 rmsd 0.83\n",
            "157 models [0] recycles 0 hard 0 soft 0.52 temp 1 seqid 0.24 loss 1.41 dgram_cce 1.41 plddt 0.89 ptm 0.74 rmsd 0.70\n",
            "158 models [1] recycles 0 hard 0 soft 0.53 temp 1 seqid 0.24 loss 1.45 dgram_cce 1.45 plddt 0.90 ptm 0.77 rmsd 0.83\n",
            "159 models [2] recycles 0 hard 0 soft 0.53 temp 1 seqid 0.21 loss 1.39 dgram_cce 1.39 plddt 0.90 ptm 0.76 rmsd 0.78\n",
            "160 models [1] recycles 0 hard 0 soft 0.53 temp 1 seqid 0.22 loss 1.33 dgram_cce 1.33 plddt 0.92 ptm 0.78 rmsd 0.79\n",
            "161 models [0] recycles 0 hard 0 soft 0.54 temp 1 seqid 0.24 loss 1.40 dgram_cce 1.40 plddt 0.90 ptm 0.75 rmsd 0.68\n",
            "162 models [1] recycles 0 hard 0 soft 0.54 temp 1 seqid 0.22 loss 1.41 dgram_cce 1.41 plddt 0.91 ptm 0.78 rmsd 0.82\n",
            "163 models [4] recycles 0 hard 0 soft 0.54 temp 1 seqid 0.24 loss 1.35 dgram_cce 1.35 plddt 0.91 ptm 0.78 rmsd 0.68\n",
            "164 models [0] recycles 0 hard 0 soft 0.55 temp 1 seqid 0.24 loss 1.40 dgram_cce 1.40 plddt 0.91 ptm 0.77 rmsd 0.70\n",
            "165 models [3] recycles 0 hard 0 soft 0.55 temp 1 seqid 0.26 loss 1.38 dgram_cce 1.38 plddt 0.89 ptm 0.74 rmsd 0.71\n",
            "166 models [1] recycles 0 hard 0 soft 0.55 temp 1 seqid 0.24 loss 1.36 dgram_cce 1.36 plddt 0.92 ptm 0.78 rmsd 0.72\n",
            "167 models [4] recycles 0 hard 0 soft 0.56 temp 1 seqid 0.24 loss 1.45 dgram_cce 1.45 plddt 0.89 ptm 0.76 rmsd 0.82\n",
            "168 models [1] recycles 0 hard 0 soft 0.56 temp 1 seqid 0.22 loss 1.41 dgram_cce 1.41 plddt 0.91 ptm 0.77 rmsd 0.97\n",
            "169 models [3] recycles 0 hard 0 soft 0.56 temp 1 seqid 0.22 loss 1.35 dgram_cce 1.35 plddt 0.90 ptm 0.77 rmsd 0.59\n",
            "170 models [0] recycles 0 hard 0 soft 0.57 temp 1 seqid 0.24 loss 1.32 dgram_cce 1.32 plddt 0.90 ptm 0.76 rmsd 0.78\n"
          ]
        }
      ]
    },
    {
      "cell_type": "code",
      "source": [
        "af_model.plot_traj()"
      ],
      "metadata": {
        "id": "8FB1v7dn1LL6"
      },
      "execution_count": null,
      "outputs": []
    },
    {
      "cell_type": "code",
      "execution_count": null,
      "metadata": {
        "id": "YEApO8YzBoS0"
      },
      "outputs": [],
      "source": [
        "af_model.save_pdb(f\"{af_model.protocol}.pdb\")\n",
        "af_model.plot_pdb()"
      ]
    },
    {
      "cell_type": "code",
      "execution_count": null,
      "metadata": {
        "id": "cW1KQiHKJpfp"
      },
      "outputs": [],
      "source": [
        "HTML(af_model.animate())"
      ]
    },
    {
      "cell_type": "code",
      "source": [
        "af_model.get_seqs()"
      ],
      "metadata": {
        "id": "YDrChASGVUUx"
      },
      "execution_count": null,
      "outputs": []
    },
    {
      "cell_type": "markdown",
      "source": [
        "# hallucination\n",
        "For a given length, generate/hallucinate a protein sequence that AlphaFold thinks folds into a well structured protein (high plddt, low pae, many contacts)."
      ],
      "metadata": {
        "id": "qLwS2s_xcjRI"
      }
    },
    {
      "cell_type": "code",
      "execution_count": null,
      "metadata": {
        "id": "sZnYfCbfEvol"
      },
      "outputs": [],
      "source": [
        "clear_mem()\n",
        "af_model = mk_afdesign_model(protocol=\"hallucination\")\n",
        "af_model.prep_inputs(length=100)\n",
        "\n",
        "print(\"length\",af_model._len)\n",
        "print(\"weights\",af_model.opt[\"weights\"])"
      ]
    },
    {
      "cell_type": "code",
      "source": [
        "# pre-design with gumbel initialization and softmax activation\n",
        "af_model.restart(mode=\"gumbel\")\n",
        "af_model.design_soft(50)\n",
        "\n",
        "# three stage design\n",
        "af_model.set_seq(af_model.aux[\"seq\"][\"pseudo\"])\n",
        "af_model.design_3stage(50,50,10)"
      ],
      "metadata": {
        "id": "f76xqCkw0vj9"
      },
      "execution_count": null,
      "outputs": []
    },
    {
      "cell_type": "code",
      "execution_count": null,
      "metadata": {
        "id": "A1GxeLZdTTya"
      },
      "outputs": [],
      "source": [
        "af_model.save_pdb(f\"{af_model.protocol}.pdb\")\n",
        "af_model.plot_pdb()"
      ]
    },
    {
      "cell_type": "code",
      "execution_count": null,
      "metadata": {
        "id": "L2E9Tn2Acchj"
      },
      "outputs": [],
      "source": [
        "HTML(af_model.animate())"
      ]
    },
    {
      "cell_type": "code",
      "execution_count": null,
      "metadata": {
        "id": "YSKWYu0_GlUH"
      },
      "outputs": [],
      "source": [
        "af_model.get_seqs()"
      ]
    },
    {
      "cell_type": "markdown",
      "metadata": {
        "id": "dXfm4B8ISLuL"
      },
      "source": [
        "# binder hallucination\n",
        "For a given protein target and protein binder length, generate/hallucinate a protein binder sequence AlphaFold thinks will bind to the target structure.\n",
        "To do this, we minimize PAE and maximize number of contacts at the interface and within the binder, and we maximize pLDDT of the binder.\n",
        "By default, AlphaFold-ptm with residue index offset hack is used. To enable AlphaFold-multimer set: mk_afdesign_model(use_multimer=True).\n"
      ]
    },
    {
      "cell_type": "code",
      "execution_count": null,
      "metadata": {
        "id": "3XLJPiRKx5Mw"
      },
      "outputs": [],
      "source": [
        "clear_mem()\n",
        "af_model = mk_afdesign_model(protocol=\"binder\")\n",
        "af_model.prep_inputs(pdb_filename=get_pdb(\"4MZK\"), chain=\"A\", binder_len=19)\n",
        "\n",
        "print(\"target_length\",af_model._target_len)\n",
        "print(\"binder_length\",af_model._binder_len)\n",
        "print(\"weights\",af_model.opt[\"weights\"])"
      ]
    },
    {
      "cell_type": "code",
      "execution_count": null,
      "metadata": {
        "id": "u6VxjuinyCZa"
      },
      "outputs": [],
      "source": [
        "af_model.restart()\n",
        "af_model.design_3stage(100,100,10)"
      ]
    },
    {
      "cell_type": "code",
      "source": [
        "af_model.save_pdb(f\"{af_model.protocol}.pdb\")\n",
        "af_model.plot_pdb()"
      ],
      "metadata": {
        "id": "sTlS7_L8Zfwf"
      },
      "execution_count": null,
      "outputs": []
    },
    {
      "cell_type": "code",
      "execution_count": null,
      "metadata": {
        "id": "9cARoviGyIKb"
      },
      "outputs": [],
      "source": [
        "HTML(af_model.animate())"
      ]
    },
    {
      "cell_type": "code",
      "source": [
        "af_model.get_seqs()"
      ],
      "metadata": {
        "id": "RzE137NDZdZc"
      },
      "execution_count": null,
      "outputs": []
    },
    {
      "cell_type": "markdown",
      "source": [
        "#**ADVANCED**"
      ],
      "metadata": {
        "id": "SK0IJLoen_EC"
      }
    },
    {
      "cell_type": "markdown",
      "source": [
        "## partial hallucination + custom Radius of Gyration (rg) loss\n",
        "mix supervised (fixbb) and unsupervised (hallucination) losses to constrain the halluciation process."
      ],
      "metadata": {
        "id": "zl6JGTUzXRnk"
      }
    },
    {
      "cell_type": "code",
      "source": [
        "import jax\n",
        "import jax.numpy as jnp\n",
        "from colabdesign.af.alphafold.common import residue_constants\n",
        "\n",
        "# first off, let's implement a custom Radius of Gyration loss function\n",
        "def rg_loss(inputs, outputs):\n",
        "  positions = outputs[\"structure_module\"][\"final_atom_positions\"]\n",
        "  ca = positions[:,residue_constants.atom_order[\"CA\"]]\n",
        "  center = ca.mean(0)\n",
        "  rg = jnp.sqrt(jnp.square(ca - center).sum(-1).mean() + 1e-8)\n",
        "  rg_th = 2.38 * ca.shape[0] ** 0.365\n",
        "  rg = jax.nn.elu(rg - rg_th)\n",
        "  return {\"rg\":rg}"
      ],
      "metadata": {
        "id": "spec3m8BlGer"
      },
      "execution_count": null,
      "outputs": []
    },
    {
      "cell_type": "code",
      "source": [
        "clear_mem()\n",
        "af_model = mk_afdesign_model(protocol=\"partial\",\n",
        "                             loss_callback=rg_loss, # add rg_loss\n",
        "                             use_templates=False)   # set True to constrain positions using template input\n",
        "\n",
        "af_model.opt[\"weights\"][\"rg\"] = 0.1  # optional: specify weight for rg_loss\n",
        "\n",
        "af_model.prep_inputs(pdb_filename=get_pdb(\"6MRR\"),\n",
        "                     chain=\"A\",\n",
        "                     pos=\"3-30,33-68\",  # define positions to contrain\n",
        "                     length=100)          # total length if different from input pdb\n",
        "\n",
        "af_model.rewire(loops=[36]) # set loop length between segments"
      ],
      "metadata": {
        "id": "h_BvzwbAKo6V"
      },
      "execution_count": null,
      "outputs": []
    },
    {
      "cell_type": "code",
      "source": [
        "# initialize with wildtype seq, fill in the rest with soft_gumbel distribution\n",
        "af_model.restart(mode=[\"soft\",\"gumbel\",\"wildtype\"])\n",
        "af_model.design_3stage(100, 100, 10)"
      ],
      "metadata": {
        "id": "5Unr9u2GYKRD"
      },
      "execution_count": null,
      "outputs": []
    },
    {
      "cell_type": "code",
      "source": [
        "af_model.save_pdb(f\"{af_model.protocol}.pdb\")\n",
        "af_model.plot_pdb()"
      ],
      "metadata": {
        "id": "BFweaqNWYuF0"
      },
      "execution_count": null,
      "outputs": []
    },
    {
      "cell_type": "code",
      "source": [
        "HTML(af_model.animate())"
      ],
      "metadata": {
        "id": "GSu2lB9HYw-t"
      },
      "execution_count": null,
      "outputs": []
    },
    {
      "cell_type": "code",
      "source": [
        "af_model.get_seqs()"
      ],
      "metadata": {
        "id": "2EG2t2_KY4Td"
      },
      "execution_count": null,
      "outputs": []
    },
    {
      "cell_type": "code",
      "source": [],
      "metadata": {
        "id": "rTGKbhsI0t8k"
      },
      "execution_count": null,
      "outputs": []
    }
  ],
  "metadata": {
    "accelerator": "GPU",
    "colab": {
      "collapsed_sections": [
        "q4qiU9I0QHSz"
      ],
      "name": "design.ipynb",
      "provenance": [],
      "machine_shape": "hm",
      "gpuType": "T4",
      "include_colab_link": true
    },
    "kernelspec": {
      "display_name": "Python 3",
      "name": "python3"
    },
    "language_info": {
      "name": "python"
    }
  },
  "nbformat": 4,
  "nbformat_minor": 0
}